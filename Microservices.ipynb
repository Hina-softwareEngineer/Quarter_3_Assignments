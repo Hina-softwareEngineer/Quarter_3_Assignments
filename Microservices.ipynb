{
 "cells": [
  {
   "cell_type": "markdown",
   "metadata": {},
   "source": [
    "# What is MicroServices?\n",
    "\n",
    "The evolution of technologies has changed the way of structuring our applications. To develop distributed, more scalable and highly maintainable and testable applications we need microservices. \n",
    "\n",
    "Microservices is a way of structuring an application as loosely coupled and highly cohesive services. It is a small component of application. Each service is maintained and developed individually to avoid complexity in application.To provide communication between services, a module provides a simple interface.\n",
    "\n",
    "## Background\n",
    "\n",
    "To early days of computer science, barriers to entry in programming language were high. Only PhD in computer can use these programming languages. In 1964, a general purpose lanugage **BASIC** was introduced.\n",
    "\n",
    "BASIC lowers the barriers in programming. In 1960, there was a fast growth of software applications so software becomes large and complex. To tackle the complexity, **Divide and Conquer** technique was used.\n",
    "\n",
    "In 1972, David Parnas introduced the concept of **Modularity** and **Information Hiding** which reduces complexity and make code reusability which reduces bugs in codes. \n",
    "\n"
   ]
  }
 ],
 "metadata": {
  "kernelspec": {
   "display_name": "Python 3",
   "language": "python",
   "name": "python3"
  },
  "language_info": {
   "codemirror_mode": {
    "name": "ipython",
    "version": 3
   },
   "file_extension": ".py",
   "mimetype": "text/x-python",
   "name": "python",
   "nbconvert_exporter": "python",
   "pygments_lexer": "ipython3",
   "version": "3.7.4"
  }
 },
 "nbformat": 4,
 "nbformat_minor": 2
}
