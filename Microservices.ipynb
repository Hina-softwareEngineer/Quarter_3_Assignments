{
 "cells": [
  {
   "cell_type": "markdown",
   "metadata": {},
   "source": [
    "# What is MicroServices?\n",
    "\n",
    "The evolution of technologies has changed the way of structuring our applications. To develop distributed, more scalable and highly maintainable and testable applications we need microservices. \n",
    "\n",
    "Microservices is a way of structuring an application as loosely coupled and highly cohesive services. It is a small component of application. Each service is maintained and developed individually to provid.To provide communication between services, a module provides a simple interface."
   ]
  }
 ],
 "metadata": {
  "kernelspec": {
   "display_name": "Python 3",
   "language": "python",
   "name": "python3"
  },
  "language_info": {
   "codemirror_mode": {
    "name": "ipython",
    "version": 3
   },
   "file_extension": ".py",
   "mimetype": "text/x-python",
   "name": "python",
   "nbconvert_exporter": "python",
   "pygments_lexer": "ipython3",
   "version": "3.7.4"
  }
 },
 "nbformat": 4,
 "nbformat_minor": 2
}
